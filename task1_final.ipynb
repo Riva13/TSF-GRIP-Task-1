{
  "nbformat": 4,
  "nbformat_minor": 0,
  "metadata": {
    "colab": {
      "name": "Untitled0.ipynb",
      "provenance": [],
      "collapsed_sections": []
    },
    "kernelspec": {
      "name": "python3",
      "display_name": "Python 3"
    }
  },
  "cells": [
    {
      "cell_type": "markdown",
      "metadata": {
        "id": "l9clmz0FhknY"
      },
      "source": [
        "**THE SPARKS FOUNDATION - GRADUATE ROTAIONAL INTERNSHIP PROGRAM**\r\n",
        "\r\n",
        "**DATA SCIENCE AND BUSINESS ANALYTICS TASKS**\r\n",
        "\r\n",
        "Task 1- Supervised Learning by Linear Regression in Python.\r\n",
        "\r\n",
        "Supervised machine learning algorithms are designed to learn by example. When training a supervised learning algorithm, the training data will consist of inputs paired with the correct outputs. During training, the algorithm will search for patterns in the data that correlate with the desired outputs. After training, a supervised learning algorithm will take in new unseen inputs and will determine which label the new inputs will be classified as based on prior training data. The objective of a supervised learning model is to predict the correct label for newly presented input data. A supervised learning algorithm can be written simply as: Y=f(x).\r\n",
        "Where Y is the predicted output that is determined by a mapping function that assigns a class to an input value x. The function used to connect input features to a predicted output is created by the machine learning model during training.\r\n",
        "\r\n",
        "Simple linear regression is useful for finding relationship between two continuous variables. One is predictor or independent variable and other is response or dependent variable. It looks for statistical relationship but not deterministic relationship. Relationship between two variables is said to be deterministic if one variable can be accurately expressed by the other. The core idea is to obtain a line that best fits the data. The best fit line is the one for which total prediction error (all data points) are as small as possible. Error is the distance between the point to the regression line.\r\n",
        "\r\n",
        "The given code shows prediction of students' percentage score based on his/her hours of study. The following model is trained with 75% of data using Linear Regression and is tested using the remaining 25% of data.\r\n",
        "\r\n",
        "\r\n",
        "*   Name:   Riva Desai\r\n",
        "*   github: https://github.com/Riva13/TSF-GRIP-Task-1\r\n",
        "*   LinkedIn: https://www.linkedin.com/in/riva-desai-620354166/\r\n",
        "\r\n"
      ]
    },
    {
      "cell_type": "markdown",
      "metadata": {
        "id": "0u-JzbxGqu0-"
      },
      "source": [
        "Importing pandas, numpy and pyplot libraries."
      ]
    },
    {
      "cell_type": "code",
      "metadata": {
        "id": "PGp9SWpG8YVl"
      },
      "source": [
        "import pandas as pd\r\n",
        "import numpy as np  \r\n",
        "import matplotlib.pyplot as plt  "
      ],
      "execution_count": 15,
      "outputs": []
    },
    {
      "cell_type": "markdown",
      "metadata": {
        "id": "s1dj-rTeq9kt"
      },
      "source": [
        "Importing data from given data source i.e. http://bit.ly/w-data consisting of two columns Hours and Score for hours of study and percentage score respectively."
      ]
    },
    {
      "cell_type": "code",
      "metadata": {
        "colab": {
          "base_uri": "https://localhost:8080/",
          "height": 219
        },
        "id": "4Tw9kRF98iZo",
        "outputId": "70761f2c-32c9-49d9-b227-7dc36d7db1e5"
      },
      "source": [
        "url = \"http://bit.ly/w-data\"\r\n",
        "s_data = pd.read_csv(url)\r\n",
        "print(\"Data imported\")\r\n",
        "\r\n",
        "s_data.head(5)"
      ],
      "execution_count": 16,
      "outputs": [
        {
          "output_type": "stream",
          "text": [
            "Data imported\n"
          ],
          "name": "stdout"
        },
        {
          "output_type": "execute_result",
          "data": {
            "text/html": [
              "<div>\n",
              "<style scoped>\n",
              "    .dataframe tbody tr th:only-of-type {\n",
              "        vertical-align: middle;\n",
              "    }\n",
              "\n",
              "    .dataframe tbody tr th {\n",
              "        vertical-align: top;\n",
              "    }\n",
              "\n",
              "    .dataframe thead th {\n",
              "        text-align: right;\n",
              "    }\n",
              "</style>\n",
              "<table border=\"1\" class=\"dataframe\">\n",
              "  <thead>\n",
              "    <tr style=\"text-align: right;\">\n",
              "      <th></th>\n",
              "      <th>Hours</th>\n",
              "      <th>Scores</th>\n",
              "    </tr>\n",
              "  </thead>\n",
              "  <tbody>\n",
              "    <tr>\n",
              "      <th>0</th>\n",
              "      <td>2.5</td>\n",
              "      <td>21</td>\n",
              "    </tr>\n",
              "    <tr>\n",
              "      <th>1</th>\n",
              "      <td>5.1</td>\n",
              "      <td>47</td>\n",
              "    </tr>\n",
              "    <tr>\n",
              "      <th>2</th>\n",
              "      <td>3.2</td>\n",
              "      <td>27</td>\n",
              "    </tr>\n",
              "    <tr>\n",
              "      <th>3</th>\n",
              "      <td>8.5</td>\n",
              "      <td>75</td>\n",
              "    </tr>\n",
              "    <tr>\n",
              "      <th>4</th>\n",
              "      <td>3.5</td>\n",
              "      <td>30</td>\n",
              "    </tr>\n",
              "  </tbody>\n",
              "</table>\n",
              "</div>"
            ],
            "text/plain": [
              "   Hours  Scores\n",
              "0    2.5      21\n",
              "1    5.1      47\n",
              "2    3.2      27\n",
              "3    8.5      75\n",
              "4    3.5      30"
            ]
          },
          "metadata": {
            "tags": []
          },
          "execution_count": 16
        }
      ]
    },
    {
      "cell_type": "markdown",
      "metadata": {
        "id": "wgAa40tWreiT"
      },
      "source": [
        "Plotting the imported data on a graph."
      ]
    },
    {
      "cell_type": "code",
      "metadata": {
        "colab": {
          "base_uri": "https://localhost:8080/",
          "height": 295
        },
        "id": "6UhZdSNd8tGq",
        "outputId": "4b2e3d60-79d6-4446-d977-6bbb0d9a05ae"
      },
      "source": [
        "s_data.plot(x='Hours', y='Scores', style='o')  \r\n",
        "plt.title('Hours vs Score')  \r\n",
        "plt.xlabel('Hours of Study')  \r\n",
        "plt.ylabel('Percentage Score')  \r\n",
        "plt.show()"
      ],
      "execution_count": 17,
      "outputs": [
        {
          "output_type": "display_data",
          "data": {
            "image/png": "[encoded data removed]",
            "text/plain": [
              "<Figure size 432x288 with 1 Axes>"
            ]
          },
          "metadata": {
            "tags": [],
            "needs_background": "light"
          }
        }
      ]
    },
    {
      "cell_type": "markdown",
      "metadata": {
        "id": "1atc9KMvrxYQ"
      },
      "source": [
        "Extracting two variable arrays X and y i.e. hours of study and percentage score respectively.  "
      ]
    },
    {
      "cell_type": "code",
      "metadata": {
        "id": "VFKJy5Tp9OMs"
      },
      "source": [
        "X = s_data.iloc[:, :-1].values  \r\n",
        "y = s_data.iloc[:, 1].values"
      ],
      "execution_count": 18,
      "outputs": []
    },
    {
      "cell_type": "markdown",
      "metadata": {
        "id": "LrC3V0uUti70"
      },
      "source": [
        "Splitting the data into Training and Testing sets. Here testing size is 0.25 which means that 25% is testing data and 75% is training data."
      ]
    },
    {
      "cell_type": "code",
      "metadata": {
        "id": "mQyVp7W3-bnE"
      },
      "source": [
        "from sklearn.model_selection import train_test_split  \r\n",
        "X_train, X_test, y_train, y_test = train_test_split(X, y, \r\n",
        "                            test_size=0.25, random_state=0)"
      ],
      "execution_count": 19,
      "outputs": []
    },
    {
      "cell_type": "markdown",
      "metadata": {
        "id": "i_m0TTLGsarr"
      },
      "source": [
        "ScikitLearn i.e. sklearn library is extremely efficient library and has numerous built-in functions for various algorithms, Linear Regression being one of them. It is simply needed to fit the variales in regressor from LinearRegression libarary."
      ]
    },
    {
      "cell_type": "code",
      "metadata": {
        "colab": {
          "base_uri": "https://localhost:8080/"
        },
        "id": "PdYtQe0P-gSg",
        "outputId": "a2febc08-048d-408b-86ea-d90e01f6bf5b"
      },
      "source": [
        "from sklearn.linear_model import LinearRegression  \r\n",
        "regressor = LinearRegression()  \r\n",
        "regressor.fit(X_train, y_train) "
      ],
      "execution_count": 20,
      "outputs": [
        {
          "output_type": "execute_result",
          "data": {
            "text/plain": [
              "LinearRegression(copy_X=True, fit_intercept=True, n_jobs=None, normalize=False)"
            ]
          },
          "metadata": {
            "tags": []
          },
          "execution_count": 20
        }
      ]
    },
    {
      "cell_type": "markdown",
      "metadata": {
        "id": "rOxlvvBWt-Wk"
      },
      "source": [
        "Plotting the regression line on graph."
      ]
    },
    {
      "cell_type": "code",
      "metadata": {
        "colab": {
          "base_uri": "https://localhost:8080/",
          "height": 283
        },
        "id": "SnZTKpSR_amT",
        "outputId": "9ab003d8-1307-4d3e-c96f-48aa05f84d7a"
      },
      "source": [
        "line = regressor.coef_*X\r\n",
        "plt.scatter(X, y)\r\n",
        "plt.plot(X, line, color='red')"
      ],
      "execution_count": 25,
      "outputs": [
        {
          "output_type": "execute_result",
          "data": {
            "text/plain": [
              "[<matplotlib.lines.Line2D at 0x7fdcd9afe8d0>]"
            ]
          },
          "metadata": {
            "tags": []
          },
          "execution_count": 25
        },
        {
          "output_type": "display_data",
          "data": {
            "image/png": "[encoded data removed]",
            "text/plain": [
              "<Figure size 432x288 with 1 Axes>"
            ]
          },
          "metadata": {
            "tags": [],
            "needs_background": "light"
          }
        }
      ]
    },
    {
      "cell_type": "markdown",
      "metadata": {
        "id": "mjin386OuaNj"
      },
      "source": [
        "Using predict function of regressor to predict the percentage score of the students in the testing data and comparing the output with actual data."
      ]
    },
    {
      "cell_type": "code",
      "metadata": {
        "colab": {
          "base_uri": "https://localhost:8080/"
        },
        "id": "WSxLZUObAL-8",
        "outputId": "61be45de-80de-4605-c025-c2e2ac35451c"
      },
      "source": [
        "y_pred = regressor.predict(X_test)\r\n",
        "\r\n",
        "X_test.reshape(1,-1)\r\n",
        "df = pd.DataFrame({'Hours of Study': X_test[:,0], 'Actual': y_test, 'Predicted': y_pred})\r\n",
        "print(df)"
      ],
      "execution_count": 22,
      "outputs": [
        {
          "output_type": "stream",
          "text": [
            "   Hours of Study  Actual  Predicted\n",
            "0             1.5      20  16.844722\n",
            "1             3.2      27  33.745575\n",
            "2             7.4      69  75.500624\n",
            "3             2.5      30  26.786400\n",
            "4             5.9      62  60.588106\n",
            "5             3.8      35  39.710582\n",
            "6             1.9      24  20.821393\n"
          ],
          "name": "stdout"
        }
      ]
    },
    {
      "cell_type": "markdown",
      "metadata": {
        "id": "znpK6pMeuvnf"
      },
      "source": [
        "Testing the model with unknown value."
      ]
    },
    {
      "cell_type": "code",
      "metadata": {
        "colab": {
          "base_uri": "https://localhost:8080/"
        },
        "id": "4Pe4TFvk7RnK",
        "outputId": "3bba177f-4ec6-4bb6-ca82-f83ca7fd2625"
      },
      "source": [
        "hour=input('Enter hours: ')\r\n",
        "hours = float(hour)\r\n",
        "hr=np.array([hours])\r\n",
        "hr=hr.reshape(-1,1)\r\n",
        "own_pred = regressor.predict(hr)\r\n",
        "print(\"No of Hours = {}\".format(hours))\r\n",
        "print(\"Predicted Score = {}\".format(own_pred[0]))"
      ],
      "execution_count": 23,
      "outputs": [
        {
          "output_type": "stream",
          "text": [
            "Enter hours: 9.25\n",
            "No of Hours = 9.25\n",
            "Predicted Score = 93.89272889341652\n"
          ],
          "name": "stdout"
        }
      ]
    },
    {
      "cell_type": "markdown",
      "metadata": {
        "id": "0ILJ6V3bvIN1"
      },
      "source": [
        "Evaluating the model using Mean Absolute Error(MAE). MAE is the mean of all the absolute error that is the absolute difference between true value and the predicted value for given observation."
      ]
    },
    {
      "cell_type": "code",
      "metadata": {
        "colab": {
          "base_uri": "https://localhost:8080/"
        },
        "id": "ZBtWZWA-EliC",
        "outputId": "7aa3a36f-62ab-47c9-fa92-b579f657f3e4"
      },
      "source": [
        "from sklearn import metrics  \r\n",
        "print('Mean Absolute Error:', \r\n",
        "      metrics.mean_absolute_error(y_test, y_pred)) "
      ],
      "execution_count": 24,
      "outputs": [
        {
          "output_type": "stream",
          "text": [
            "Mean Absolute Error: 4.130879918502482\n"
          ],
          "name": "stdout"
        }
      ]
    }
  ]
}